{
 "cells": [
  {
   "cell_type": "code",
   "execution_count": 8,
   "metadata": {},
   "outputs": [],
   "source": [
    "try:\n",
    "    import Image\n",
    "except ImportError:\n",
    "    from PIL import Image\n",
    "import pytesseract\n",
    "import os\n",
    "pytesseract.pytesseract.tesseract_cmd = r\"C:\\Program Files\\Tesseract-OCR\\tesseract.exe\"\n",
    "import json\n"
   ]
  },
  {
   "cell_type": "code",
   "execution_count": 2,
   "metadata": {},
   "outputs": [],
   "source": [
    "def get_text(dir):\n",
    "    r = []\n",
    "    for root, dirs, files in os.walk(dir):\n",
    "        for name in files:\n",
    "            if name.endswith(\".PNG\"):\n",
    "                filename = os.path.join(root, name)\n",
    "                r.append({\n",
    "                    \"file\": filename,\n",
    "                    \"text\": pytesseract.image_to_string(Image.open(filename), lang='eng')\n",
    "                    })\n",
    "    return r"
   ]
  },
  {
   "cell_type": "code",
   "execution_count": 3,
   "metadata": {},
   "outputs": [
    {
     "name": "stdout",
     "output_type": "stream",
     "text": [
      "457\n",
      "[{'file': 'data\\\\2017\\\\IMG_1771.PNG', 'text': \"> Verizon > 10:43 AM\\n\\nQ. Search\\n\\nRecent\\n\\nJ NEWS 16m ago\\n\\nCNN\\n\\nThe Secret Service can't pay agents to\\nprotect President Trump and his family,\\naccording to new report\\n\\n(SJ news\\n\\nUSA TODAY\\n\\nExclusive: Secret Service depletes\\nfunds to pay agents because of Trump's\\nfrequent travel, large family\\n\\nPODCASTS 3h ago\\n\\nMonday, Aug. 21, 2017 is now available\\nfrom The Daily.\\n\\nPODCASTS 3h ago\\n\\n—\\n\"}, {'file': 'data\\\\2017\\\\IMG_1853.PNG', 'text': 'e@eee0 Verizon LTE 10:31PM\\n\\nQ. Search\\n\\nJ NEWS Show Less\\n\\nBREAKING NEWS\\n\\nCNN\\nTrump pardons former\\nSheriff Joe Arpaio\\n\\nBREAKING 2h\\n\\n@CBSNEWS\\n\\nHurricane Harvey\\nstrengthens to Category\\n4 storm\\n\\nBREAKING 2h\\n\\nThe Washington Post\\n\\nNorth Korea launches\\nthree missiles into sea,\\nheightening tensions\\nDEVELOPING 2h\\n\\nBuzzFeepNEws\\n\\nTrump Orders An End To\\nOpen Transgender\\nMilitary Service In 2018\\nDEVELOPING 2h\\n\\nJ WEATHER Show Less\\n'}, {'file': 'data\\\\2017\\\\IMG_1890.PNG', 'text': \"e000 Verizon > 11:14 PM\\n\\nTOP STORIES\\n\\nFOX NEWS\\n\\nHurricane Harvey results\\nin at least one death, up\\nto 14 injuries\\n\\n5h\\n\\nThe Washington Post\\nArpaio, 85, hints at return\\nto politics after pardon\\n\\nfrom Trump\\n5h\\n\\nTRENDING\\n\\nGN\\n\\nSecret Service to fire\\nshots near White House\\nwhile Trump is away\\n\\n3h\\n\\nThe Washington Post\\n\\nAnalysis | Sarah\\nHuckabee Sanders says\\nshe'll get back to you o...\\n5h\\n\\n©) weatHer Show Less\\n\"}, {'file': 'data\\\\2017\\\\IMG_1965.PNG', 'text': \"TOP STORIES\\n\\nChron\\n\\nTropical Storm Harvey\\nunleashes historic\\nflooding in Houston area\\nBREAKING 4h\\n\\nVox\\nTrump's FEMA director is\\nfacing his first big\\n\\nchallenge with Hurrican...\\n4h\\n\\nTRENDING\\n\\nCNN\\n\\nThe world is watching\\nTrump's attacks on the\\npress\\n\\n6h\\n\\nTIME\\n\\nPresident Trump Tweets\\nAbout 2016 Election and\\nBorder Wall in the Midst...\\n3h\\n\\n\"}, {'file': 'data\\\\2017\\\\IMG_1970.PNG', 'text': \"e000 Verizon > 12:49 AM\\n\\nTOP STORIES\\n\\n%% NBC NEWS\\nHouston Hit by\\n‘Catastrophic Flooding'\\n\\nFrom Hurricane Harvey...\\nBREAKING 2h\\n\\neeoctArc\\nPictures Reveal Hurricane\\nHarvey's Catastrophic\\nDestruction\\n2h\\n\\nTRENDING\\n\\nGN\\n\\nIn response to Trump\\ntweet, Mexico reiterates\\nit won't pay for the wall\\n5h\\n\\nThe Washington Post\\n\\nTrump's business sought\\ndeal on a Trump Tower in\\nMoscow while he ran fo...\\n1h\\n\\n\\\\ J WEATHER\\n\\nShow Less\\n\"}, {'file': 'data\\\\2017\\\\IMG_1971.PNG', 'text': \"e000 Verizon > 9:34 AM\\n\\nTOP STORIES\\n\\nThe Washington Post\\nMore than 30,000 people\\nexpected in shelters as\\n\\nextent of Harvey's blow...\\n2h\\n\\nTIME\\n‘Need Help ASAP.’ The\\n\\nStory Behind the Photo of\\nNursing Home Resident...\\n2h\\n\\nTRENDING\\n\\nGN\\nJudges remain silent as\\nTrump pardons Arpaio\\n\\n33m\\n\\nThe Washington Post\\n\\nTaylor Swift knows you've\\nbeen making fun of her.\\nHere's how her new vid...\\n45m\\n\\n© weatHer Show Less\\n\"}, {'file': 'data\\\\2017\\\\IMG_2030.PNG', 'text': '@@000 Verizon > 10:53 AM\\n\\nTOP STORIES\\n\\nThe Washington Post\\nIn latest test, North Korea\\ndetonates its most\\n\\npowerful nuclear device... Fi\\n47m Maa!\\n\\nGN\\n\\nHarvey aftermath: Toxic\\nwaste sites flooded in\\nTexas, EPA says\\n\\n47m\\nTRENDING\\n\\nGN\\n\\nExclusive: Read the\\nInauguration Day letter\\nObama left for Trump\\n2h\\n\\nFOX NEWS\\n\\nArrest made in slaying of\\nTemple University\\nstudent\\n\\n4h\\n\\n©) wearTHer Show Less\\n'}, {'file': 'data\\\\2017\\\\IMG_2033.PNG', 'text': \"e000 Verizon > 8:01 PM\\n\\nTOP STORIES\\n\\nFOX NEWS ey\\n\\nUN Security Council calls F se\\nemergency meeting after trainee\\nNorth Korea claims suc... _\\n2h\\n\\nLos Angeles wildfire,\\nlargest in city history,\\n\\nmenaces hundreds of h...\\n2h\\n\\nTRENDING\\n\\nFOX NEWS\\nAngelina Jolie: 'I don't\\nenjoy being single’\\n\\n6h\\n\\nCNN\\n\\nRep. Adam Schiff:\\nProposed Trump Tower in\\nMoscow shows Trump...\\n6h\\n\\n©) weatHer Show Less\\n\"}, {'file': 'data\\\\2017\\\\IMG_2089.PNG', 'text': \"Zon > 11:29 PM\\n\\n(5) news\\nTOP STORIES\\n\\n@®CBSNEWS\\n\\nIrma now most powerful\\nstorm ever recorded in\\nAtlantic Ocean\\n\\n2h\\n\\n% NBC NEWS\\nFight Over DACA Heads to\\na Divided Congress and\\n\\nan Uncertain Fate\\n2h\\n\\nTRENDING\\n\\nKim Kardashian West\\nShares NSFW Photo Days\\nAfter Sharon Osbourne...\\n4h\\n\\nTHUFFPOSTI\\nCharlotte Mayoral\\nCandidate Says Vote For\\nHer Because She's White\\n2h\\n\\n\"}, {'file': 'data\\\\2017\\\\IMG_2140.PNG', 'text': \"TOP STORIES\\n\\nThe New York Gimes\\n\\nHurricane Irma Live\\nUpdates: Storm Hits\\nFlorida Keys With 130-...\\n\\nDEVELOPING 2h\\n\\nMiamiterald\\nFrom inside the Florida\\nKeys: ‘Everything is under\\n\\nwater. | mean everything’\\n2h\\n\\nTRENDING\\n\\nGN\\n\\nJohn McCain: 'I'm facing a\\nchallenge'\\n\\n21m\\n\\neset\\n\\nDogs Have Feelings—\\nHere's How We Know\\n\\n2h\\n\\nP| castiuicn\\n\\n\"}]\n"
     ]
    }
   ],
   "source": [
    "r = get_text('data')\n",
    "print(len(r))\n",
    "print(r[:10])"
   ]
  },
  {
   "cell_type": "code",
   "execution_count": 9,
   "metadata": {},
   "outputs": [],
   "source": [
    "with open('data.json', 'w+') as file:\n",
    "    json.dump(r, file)"
   ]
  }
 ],
 "metadata": {
  "kernelspec": {
   "display_name": ".venv",
   "language": "python",
   "name": "python3"
  },
  "language_info": {
   "codemirror_mode": {
    "name": "ipython",
    "version": 3
   },
   "file_extension": ".py",
   "mimetype": "text/x-python",
   "name": "python",
   "nbconvert_exporter": "python",
   "pygments_lexer": "ipython3",
   "version": "3.12.8"
  }
 },
 "nbformat": 4,
 "nbformat_minor": 2
}
